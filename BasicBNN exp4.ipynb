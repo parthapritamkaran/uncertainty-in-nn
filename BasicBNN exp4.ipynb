{
  "metadata": {
    "kernelspec": {
      "language": "python",
      "display_name": "Python 3",
      "name": "python3"
    },
    "language_info": {
      "name": "python",
      "version": "3.10.12",
      "mimetype": "text/x-python",
      "codemirror_mode": {
        "name": "ipython",
        "version": 3
      },
      "pygments_lexer": "ipython3",
      "nbconvert_exporter": "python",
      "file_extension": ".py"
    },
    "kaggle": {
      "accelerator": "none",
      "dataSources": [
        {
          "sourceId": 4218180,
          "sourceType": "datasetVersion",
          "datasetId": 2486404
        }
      ],
      "dockerImageVersionId": 30587,
      "isInternetEnabled": true,
      "language": "python",
      "sourceType": "notebook",
      "isGpuEnabled": false
    },
    "colab": {
      "provenance": []
    }
  },
  "nbformat_minor": 0,
  "nbformat": 4,
  "cells": [
    {
      "cell_type": "markdown",
      "source": [
        "## Installs"
      ],
      "metadata": {
        "id": "EityTVJ3vZvZ"
      }
    },
    {
      "cell_type": "code",
      "source": [
        "!pip install torchbnn"
      ],
      "metadata": {
        "_uuid": "8f2839f25d086af736a60e9eeb907d3b93b6e0e5",
        "_cell_guid": "b1076dfc-b9ad-4769-8c92-a6c4dae69d19",
        "execution": {
          "iopub.status.busy": "2023-11-28T16:23:06.106803Z",
          "iopub.execute_input": "2023-11-28T16:23:06.107138Z",
          "iopub.status.idle": "2023-11-28T16:23:09.412217Z",
          "shell.execute_reply.started": "2023-11-28T16:23:06.107109Z",
          "shell.execute_reply": "2023-11-28T16:23:09.411238Z"
        },
        "trusted": true,
        "colab": {
          "base_uri": "https://localhost:8080/"
        },
        "id": "WEeTjydBRpWn",
        "outputId": "3953d92e-e9d6-421f-a458-c87d1c5c58d1"
      },
      "execution_count": null,
      "outputs": [
        {
          "output_type": "stream",
          "name": "stdout",
          "text": [
            "Collecting torchbnn\n",
            "  Downloading torchbnn-1.2-py3-none-any.whl (12 kB)\n",
            "Installing collected packages: torchbnn\n",
            "Successfully installed torchbnn-1.2\n"
          ]
        }
      ]
    },
    {
      "cell_type": "markdown",
      "source": [
        "##Imports"
      ],
      "metadata": {
        "id": "tw5Ul8mgvctK"
      }
    },
    {
      "cell_type": "code",
      "source": [
        "import numpy as np\n",
        "import torch as T\n",
        "import torchbnn as bnn\n",
        "import time\n",
        "import matplotlib.pyplot as plt\n",
        "from sklearn import datasets\n",
        "\n",
        "device = T.device('cpu')"
      ],
      "metadata": {
        "_uuid": "8f2839f25d086af736a60e9eeb907d3b93b6e0e5",
        "_cell_guid": "b1076dfc-b9ad-4769-8c92-a6c4dae69d19",
        "execution": {
          "iopub.status.busy": "2023-11-28T16:23:09.413954Z",
          "iopub.execute_input": "2023-11-28T16:23:09.414232Z",
          "iopub.status.idle": "2023-11-28T16:23:25.367638Z",
          "shell.execute_reply.started": "2023-11-28T16:23:09.414202Z",
          "shell.execute_reply": "2023-11-28T16:23:25.366896Z"
        },
        "trusted": true,
        "id": "gSC2jTvzRpWp"
      },
      "execution_count": null,
      "outputs": []
    },
    {
      "cell_type": "markdown",
      "source": [
        "##Loading Dataset"
      ],
      "metadata": {
        "id": "hc2ZvYlPvfdx"
      }
    },
    {
      "cell_type": "code",
      "source": [
        "class IrisDataset(T.utils.data.Dataset):\n",
        "  def __init__(self):\n",
        "    iris = datasets.load_iris()\n",
        "    tmp_x = iris.data\n",
        "    tmp_y = iris.target\n",
        "\n",
        "    self.x_data = T.tensor(tmp_x, dtype=T.float32)\n",
        "    self.y_data = T.tensor(tmp_y, dtype=T.int64)\n",
        "\n",
        "  def __len__(self):\n",
        "    return len(self.x_data)\n",
        "\n",
        "  def __getitem__(self, idx):\n",
        "    if T.is_tensor(idx):\n",
        "      idx = idx.tolist()\n",
        "    preds = self.x_data[idx]\n",
        "    spcs = self.y_data[idx]\n",
        "    sample = { 'predictors' : preds, 'species' : spcs }\n",
        "    return sample"
      ],
      "metadata": {
        "_uuid": "8f2839f25d086af736a60e9eeb907d3b93b6e0e5",
        "_cell_guid": "b1076dfc-b9ad-4769-8c92-a6c4dae69d19",
        "execution": {
          "iopub.status.busy": "2023-11-28T16:23:25.368535Z",
          "iopub.execute_input": "2023-11-28T16:23:25.368826Z",
          "iopub.status.idle": "2023-11-28T16:23:25.374652Z",
          "shell.execute_reply.started": "2023-11-28T16:23:25.368800Z",
          "shell.execute_reply": "2023-11-28T16:23:25.374033Z"
        },
        "trusted": true,
        "id": "HhL-oF8bRpWq"
      },
      "execution_count": null,
      "outputs": []
    },
    {
      "cell_type": "markdown",
      "source": [
        "##Bayesian Neural Network"
      ],
      "metadata": {
        "id": "Na4abBV6vzxD"
      }
    },
    {
      "cell_type": "code",
      "source": [
        "class BayesianNet(T.nn.Module):\n",
        "  def __init__(self):\n",
        "    super(BayesianNet, self).__init__()\n",
        "    self.hid1 = bnn.BayesLinear(prior_mu=0, prior_sigma=0.1, in_features=4, out_features=100)\n",
        "    self.oupt = bnn.BayesLinear(prior_mu=0, prior_sigma=0.1, in_features=100, out_features=3)\n",
        "\n",
        "  def forward(self, x):\n",
        "    z = T.relu(self.hid1(x))\n",
        "    z = self.oupt(z)\n",
        "    return z"
      ],
      "metadata": {
        "_uuid": "8f2839f25d086af736a60e9eeb907d3b93b6e0e5",
        "_cell_guid": "b1076dfc-b9ad-4769-8c92-a6c4dae69d19",
        "execution": {
          "iopub.status.busy": "2023-11-28T16:23:25.375986Z",
          "iopub.execute_input": "2023-11-28T16:23:25.376297Z",
          "iopub.status.idle": "2023-11-28T16:23:25.387753Z",
          "shell.execute_reply.started": "2023-11-28T16:23:25.376272Z",
          "shell.execute_reply": "2023-11-28T16:23:25.387042Z"
        },
        "trusted": true,
        "id": "sgdHqIuORpWq"
      },
      "execution_count": null,
      "outputs": []
    },
    {
      "cell_type": "markdown",
      "source": [
        "## Accuracy Calculator"
      ],
      "metadata": {
        "id": "TGVXDHUUv6Of"
      }
    },
    {
      "cell_type": "code",
      "source": [
        "def accuracy(model, dataset):\n",
        "  n = len(dataset)\n",
        "  X = dataset[0:n]['predictors']\n",
        "  Y = T.flatten(dataset[0:n]['species'])\n",
        "\n",
        "  with T.no_grad():\n",
        "    oupt = model(X)\n",
        "  arg_maxs = T.argmax(oupt, dim=1)\n",
        "  num_correct = T.sum(Y==arg_maxs)\n",
        "  acc = (num_correct * 1.0 / len(dataset))\n",
        "  return acc.item()"
      ],
      "metadata": {
        "_uuid": "8f2839f25d086af736a60e9eeb907d3b93b6e0e5",
        "_cell_guid": "b1076dfc-b9ad-4769-8c92-a6c4dae69d19",
        "execution": {
          "iopub.status.busy": "2023-11-28T16:23:25.388598Z",
          "iopub.execute_input": "2023-11-28T16:23:25.388832Z",
          "iopub.status.idle": "2023-11-28T16:23:25.397592Z",
          "shell.execute_reply.started": "2023-11-28T16:23:25.388808Z",
          "shell.execute_reply": "2023-11-28T16:23:25.396959Z"
        },
        "trusted": true,
        "id": "_a5mpFOaRpWq"
      },
      "execution_count": null,
      "outputs": []
    },
    {
      "cell_type": "markdown",
      "source": [
        "#Training / Testing"
      ],
      "metadata": {
        "id": "50wptwzOwAlW"
      }
    },
    {
      "cell_type": "code",
      "source": [
        "np.random.seed(int(time.time()))\n",
        "T.manual_seed(int(time.time()))\n",
        "\n",
        "train_ds = IrisDataset()\n",
        "\n",
        "epoch_cnt = [10, 20, 50, 100, 150, 200, 250, 300, 350, 400, 450, 500, 550, 600, 650, 700, 750, 800, 850, 900, 950, 1000]\n",
        "x = []\n",
        "y = []\n",
        "\n",
        "for epoch_sz in epoch_cnt:\n",
        "    train_ldr = T.utils.data.DataLoader(train_ds, batch_size=4, shuffle=True)\n",
        "    net = BayesianNet().to(device)\n",
        "    max_epochs = epoch_sz\n",
        "    ep_log_interval = 10\n",
        "\n",
        "    ce_loss = T.nn.CrossEntropyLoss()\n",
        "    kl_loss = bnn.BKLLoss(reduction='mean', last_layer_only=False)\n",
        "    optimizer = T.optim.Adam(net.parameters(), lr=0.01)\n",
        "\n",
        "    print(\"max_epochs = %3d \" % max_epochs)\n",
        "\n",
        "    net.train()\n",
        "    for epoch in range(0, max_epochs):\n",
        "      epoch_loss = 0\n",
        "\n",
        "      for (batch_idx, batch) in enumerate(train_ldr):\n",
        "        X = batch['predictors']\n",
        "        Y = batch['species']\n",
        "        optimizer.zero_grad()\n",
        "        oupt = net(X)\n",
        "\n",
        "        cel = ce_loss(oupt, Y)\n",
        "        kll = kl_loss(net)\n",
        "        tot_loss = cel + (0.10 * kll)\n",
        "\n",
        "        epoch_loss += tot_loss.item()\n",
        "        tot_loss.backward()\n",
        "        optimizer.step()\n",
        "\n",
        "    net.eval()\n",
        "    acc = accuracy(net, train_ds)\n",
        "    print(\"Accuracy on train data = %0.4f\\n\" % acc)\n",
        "    x.append(max_epochs)\n",
        "    y.append(acc)"
      ],
      "metadata": {
        "_uuid": "8f2839f25d086af736a60e9eeb907d3b93b6e0e5",
        "_cell_guid": "b1076dfc-b9ad-4769-8c92-a6c4dae69d19",
        "execution": {
          "iopub.status.busy": "2023-11-28T16:31:25.977829Z",
          "iopub.execute_input": "2023-11-28T16:31:25.978232Z",
          "iopub.status.idle": "2023-11-28T16:35:59.115361Z",
          "shell.execute_reply.started": "2023-11-28T16:31:25.978197Z",
          "shell.execute_reply": "2023-11-28T16:35:59.114287Z"
        },
        "trusted": true,
        "colab": {
          "base_uri": "https://localhost:8080/"
        },
        "id": "Nq9wmSA4RpWq",
        "outputId": "e5a38fed-a583-4d39-94c2-d323c4262788"
      },
      "execution_count": null,
      "outputs": [
        {
          "output_type": "stream",
          "name": "stdout",
          "text": [
            "\n",
            "Creating Iris train Dataset and DataLoader \n",
            "max_epochs =  10 \n",
            "Accuracy on train data = 0.6733\n",
            "\n",
            "max_epochs =  20 \n",
            "Accuracy on train data = 0.9733\n",
            "\n",
            "max_epochs =  50 \n",
            "Accuracy on train data = 0.9800\n",
            "\n",
            "max_epochs = 100 \n",
            "Accuracy on train data = 0.8800\n",
            "\n",
            "max_epochs = 150 \n",
            "Accuracy on train data = 0.9400\n",
            "\n",
            "max_epochs = 200 \n",
            "Accuracy on train data = 0.9867\n",
            "\n",
            "max_epochs = 250 \n",
            "Accuracy on train data = 0.9867\n",
            "\n",
            "max_epochs = 300 \n",
            "Accuracy on train data = 0.9733\n",
            "\n",
            "max_epochs = 350 \n",
            "Accuracy on train data = 0.9467\n",
            "\n",
            "max_epochs = 400 \n",
            "Accuracy on train data = 0.9467\n",
            "\n",
            "max_epochs = 450 \n",
            "Accuracy on train data = 0.9733\n",
            "\n",
            "max_epochs = 500 \n",
            "Accuracy on train data = 0.9800\n",
            "\n",
            "max_epochs = 550 \n",
            "Accuracy on train data = 0.9867\n",
            "\n",
            "max_epochs = 600 \n",
            "Accuracy on train data = 0.9600\n",
            "\n",
            "max_epochs = 650 \n",
            "Accuracy on train data = 0.9800\n",
            "\n",
            "max_epochs = 700 \n",
            "Accuracy on train data = 0.9667\n",
            "\n",
            "max_epochs = 750 \n",
            "Accuracy on train data = 0.9400\n",
            "\n",
            "max_epochs = 800 \n",
            "Accuracy on train data = 0.9467\n",
            "\n",
            "max_epochs = 850 \n",
            "Accuracy on train data = 0.9800\n",
            "\n",
            "max_epochs = 900 \n",
            "Accuracy on train data = 0.9733\n",
            "\n",
            "max_epochs = 950 \n",
            "Accuracy on train data = 0.9533\n",
            "\n",
            "max_epochs = 1000 \n",
            "Accuracy on train data = 0.9800\n",
            "\n"
          ]
        }
      ]
    },
    {
      "cell_type": "markdown",
      "source": [
        "##Plot"
      ],
      "metadata": {
        "id": "fScCX2UFwzmi"
      }
    },
    {
      "cell_type": "code",
      "source": [
        "plt.plot(x, y)\n",
        "plt.xlabel(\"Epoch count\")\n",
        "plt.ylabel(\"Accuracy\")\n",
        "plt.title(\"Epoch Count vs Accuracy\")\n",
        "plt.show()"
      ],
      "metadata": {
        "colab": {
          "base_uri": "https://localhost:8080/",
          "height": 472
        },
        "id": "hU8zwikVRpWr",
        "outputId": "041f996a-0295-41b7-d9c1-e02a2e42c5d8"
      },
      "execution_count": null,
      "outputs": [
        {
          "output_type": "display_data",
          "data": {
            "text/plain": [
              "<Figure size 640x480 with 1 Axes>"
            ],
            "image/png": "[encoded data removed]"
          },
          "metadata": {}
        }
      ]
    },
    {
      "cell_type": "code",
      "source": [],
      "metadata": {
        "id": "MJJTbIy6Aw9k"
      },
      "execution_count": null,
      "outputs": []
    }
  ]
}